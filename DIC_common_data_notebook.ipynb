{
  "cells": [
    {
      "cell_type": "markdown",
      "metadata": {},
      "source": [
        "## Importing libraries"
      ]
    },
    {
      "cell_type": "code",
      "execution_count": 19,
      "metadata": {
        "id": "wGBhsSQzwDMY"
      },
      "outputs": [],
      "source": [
        "import os\n",
        "import pandas as pd\n",
        "import seaborn as sb\n",
        "import numpy as np"
      ]
    },
    {
      "cell_type": "markdown",
      "metadata": {},
      "source": [
        "## Importing datasets"
      ]
    },
    {
      "cell_type": "code",
      "execution_count": 20,
      "metadata": {},
      "outputs": [],
      "source": [
        "# BASE_PATH = './datasets/'\n",
        "# DATASET1_PATH = os.path.join(BASE_PATH,'AI_Job_Market')\n",
        "# DATASET2_PATH = os.path.join(BASE_PATH,'Job_Postings')\n",
        "# DATASET3_PATH = os.path.join(BASE_PATH,'kaggle-survey-2019')\n",
        "# DATASET4_PATH = os.path.join(BASE_PATH,'US_graduates')"
      ]
    },
    {
      "cell_type": "markdown",
      "metadata": {},
      "source": [
        "## Data Cleaning on Dataset 2"
      ]
    },
    {
      "cell_type": "code",
      "execution_count": 21,
      "metadata": {
        "id": "wHorE-x1wuBh"
      },
      "outputs": [],
      "source": [
        "# POSTINGS_PATH = os.path.join(DATASET2_PATH,'postings.csv')\n",
        "# df = pd.read_csv(POSTINGS_PATH)"
      ]
    },
    {
      "cell_type": "code",
      "execution_count": 22,
      "metadata": {},
      "outputs": [],
      "source": [
        "# df.head()"
      ]
    },
    {
      "cell_type": "code",
      "execution_count": 23,
      "metadata": {},
      "outputs": [],
      "source": [
        "# df_half = df.iloc[:len(df) // 2,:]\n",
        "# len(df_half)"
      ]
    },
    {
      "cell_type": "code",
      "execution_count": 24,
      "metadata": {},
      "outputs": [],
      "source": [
        "# NEW_POSTINGS_PATH = os.path.join(DATASET2_PATH, 'postings_half.csv')\n",
        "# df_half.to_csv(NEW_POSTINGS_PATH)"
      ]
    },
    {
      "cell_type": "code",
      "execution_count": null,
      "metadata": {},
      "outputs": [],
      "source": []
    },
    {
      "cell_type": "markdown",
      "metadata": {},
      "source": [
        "## MERGING DATASETS"
      ]
    },
    {
      "cell_type": "code",
      "execution_count": 25,
      "metadata": {},
      "outputs": [
        {
          "name": "stderr",
          "output_type": "stream",
          "text": [
            "C:\\Users\\vkpan\\AppData\\Local\\Temp\\ipykernel_16328\\3874783866.py:4: DtypeWarning: Columns (0,3,7,19,32,34,45,47,49,50,51,52,53,54,66,68,79,81,92,94,96,107,109,115,128,130,137,139,145,147,152,154,165,167,178,180,191,193,204,206,217,219,230,232,243,245) have mixed types. Specify dtype option on import or set low_memory=False.\n",
            "  df1 = pd.read_csv('./datasets/kaggle-survey-2019/multiple_choice_responses.csv')  # multiple_choice_responses dataset\n"
          ]
        },
        {
          "ename": "KeyError",
          "evalue": "'Job_Title'",
          "output_type": "error",
          "traceback": [
            "\u001b[1;31m---------------------------------------------------------------------------\u001b[0m",
            "\u001b[1;31mKeyError\u001b[0m                                  Traceback (most recent call last)",
            "\u001b[1;32m~\\AppData\\Local\\Temp\\ipykernel_16328\\3874783866.py\u001b[0m in \u001b[0;36m?\u001b[1;34m()\u001b[0m\n\u001b[0;32m     28\u001b[0m     \u001b[1;34m\"Job_Title\"\u001b[0m\u001b[1;33m:\u001b[0m \u001b[1;34m\"Job_Title\"\u001b[0m\u001b[1;33m\u001b[0m\u001b[1;33m\u001b[0m\u001b[0m\n\u001b[0;32m     29\u001b[0m \u001b[1;33m}\u001b[0m\u001b[1;33m,\u001b[0m \u001b[0minplace\u001b[0m\u001b[1;33m=\u001b[0m\u001b[1;32mTrue\u001b[0m\u001b[1;33m)\u001b[0m\u001b[1;33m\u001b[0m\u001b[1;33m\u001b[0m\u001b[0m\n\u001b[0;32m     30\u001b[0m \u001b[1;33m\u001b[0m\u001b[0m\n\u001b[0;32m     31\u001b[0m \u001b[1;31m# Merge the datasets on common columns such as 'Location', 'Job_Title', and 'Salary_Median'\u001b[0m\u001b[1;33m\u001b[0m\u001b[1;33m\u001b[0m\u001b[0m\n\u001b[1;32m---> 32\u001b[1;33m merged_df = df1.merge(df3, on=['Job_Title', 'Location'], how='outer')\\\n\u001b[0m\u001b[0;32m     33\u001b[0m                .merge(df4, on=['Job_Title', 'Location'], how='outer')\\\n\u001b[0;32m     34\u001b[0m                \u001b[1;33m.\u001b[0m\u001b[0mmerge\u001b[0m\u001b[1;33m(\u001b[0m\u001b[0mdf2\u001b[0m\u001b[1;33m,\u001b[0m \u001b[0mleft_on\u001b[0m\u001b[1;33m=\u001b[0m\u001b[1;34m'Job_Title'\u001b[0m\u001b[1;33m,\u001b[0m \u001b[0mright_on\u001b[0m\u001b[1;33m=\u001b[0m\u001b[1;34m'Education.Major'\u001b[0m\u001b[1;33m,\u001b[0m \u001b[0mhow\u001b[0m\u001b[1;33m=\u001b[0m\u001b[1;34m'outer'\u001b[0m\u001b[1;33m)\u001b[0m\u001b[1;33m\u001b[0m\u001b[1;33m\u001b[0m\u001b[0m\n\u001b[0;32m     35\u001b[0m \u001b[1;33m\u001b[0m\u001b[0m\n",
            "\u001b[1;32mc:\\Users\\vkpan\\AppData\\Local\\Programs\\Python\\Python312\\Lib\\site-packages\\pandas\\core\\frame.py\u001b[0m in \u001b[0;36m?\u001b[1;34m(self, right, how, on, left_on, right_on, left_index, right_index, sort, suffixes, copy, indicator, validate)\u001b[0m\n\u001b[0;32m  10483\u001b[0m         \u001b[0mvalidate\u001b[0m\u001b[1;33m:\u001b[0m \u001b[0mMergeValidate\u001b[0m \u001b[1;33m|\u001b[0m \u001b[1;32mNone\u001b[0m \u001b[1;33m=\u001b[0m \u001b[1;32mNone\u001b[0m\u001b[1;33m,\u001b[0m\u001b[1;33m\u001b[0m\u001b[1;33m\u001b[0m\u001b[0m\n\u001b[0;32m  10484\u001b[0m     \u001b[1;33m)\u001b[0m \u001b[1;33m->\u001b[0m \u001b[0mDataFrame\u001b[0m\u001b[1;33m:\u001b[0m\u001b[1;33m\u001b[0m\u001b[1;33m\u001b[0m\u001b[0m\n\u001b[0;32m  10485\u001b[0m         \u001b[1;32mfrom\u001b[0m \u001b[0mpandas\u001b[0m\u001b[1;33m.\u001b[0m\u001b[0mcore\u001b[0m\u001b[1;33m.\u001b[0m\u001b[0mreshape\u001b[0m\u001b[1;33m.\u001b[0m\u001b[0mmerge\u001b[0m \u001b[1;32mimport\u001b[0m \u001b[0mmerge\u001b[0m\u001b[1;33m\u001b[0m\u001b[1;33m\u001b[0m\u001b[0m\n\u001b[0;32m  10486\u001b[0m \u001b[1;33m\u001b[0m\u001b[0m\n\u001b[1;32m> 10487\u001b[1;33m         return merge(\n\u001b[0m\u001b[0;32m  10488\u001b[0m             \u001b[0mself\u001b[0m\u001b[1;33m,\u001b[0m\u001b[1;33m\u001b[0m\u001b[1;33m\u001b[0m\u001b[0m\n\u001b[0;32m  10489\u001b[0m             \u001b[0mright\u001b[0m\u001b[1;33m,\u001b[0m\u001b[1;33m\u001b[0m\u001b[1;33m\u001b[0m\u001b[0m\n\u001b[0;32m  10490\u001b[0m             \u001b[0mhow\u001b[0m\u001b[1;33m=\u001b[0m\u001b[0mhow\u001b[0m\u001b[1;33m,\u001b[0m\u001b[1;33m\u001b[0m\u001b[1;33m\u001b[0m\u001b[0m\n",
            "\u001b[1;32mc:\\Users\\vkpan\\AppData\\Local\\Programs\\Python\\Python312\\Lib\\site-packages\\pandas\\core\\reshape\\merge.py\u001b[0m in \u001b[0;36m?\u001b[1;34m(left, right, how, on, left_on, right_on, left_index, right_index, sort, suffixes, copy, indicator, validate)\u001b[0m\n\u001b[0;32m    165\u001b[0m             \u001b[0mvalidate\u001b[0m\u001b[1;33m=\u001b[0m\u001b[0mvalidate\u001b[0m\u001b[1;33m,\u001b[0m\u001b[1;33m\u001b[0m\u001b[1;33m\u001b[0m\u001b[0m\n\u001b[0;32m    166\u001b[0m             \u001b[0mcopy\u001b[0m\u001b[1;33m=\u001b[0m\u001b[0mcopy\u001b[0m\u001b[1;33m,\u001b[0m\u001b[1;33m\u001b[0m\u001b[1;33m\u001b[0m\u001b[0m\n\u001b[0;32m    167\u001b[0m         \u001b[1;33m)\u001b[0m\u001b[1;33m\u001b[0m\u001b[1;33m\u001b[0m\u001b[0m\n\u001b[0;32m    168\u001b[0m     \u001b[1;32melse\u001b[0m\u001b[1;33m:\u001b[0m\u001b[1;33m\u001b[0m\u001b[1;33m\u001b[0m\u001b[0m\n\u001b[1;32m--> 169\u001b[1;33m         op = _MergeOperation(\n\u001b[0m\u001b[0;32m    170\u001b[0m             \u001b[0mleft_df\u001b[0m\u001b[1;33m,\u001b[0m\u001b[1;33m\u001b[0m\u001b[1;33m\u001b[0m\u001b[0m\n\u001b[0;32m    171\u001b[0m             \u001b[0mright_df\u001b[0m\u001b[1;33m,\u001b[0m\u001b[1;33m\u001b[0m\u001b[1;33m\u001b[0m\u001b[0m\n\u001b[0;32m    172\u001b[0m             \u001b[0mhow\u001b[0m\u001b[1;33m=\u001b[0m\u001b[0mhow\u001b[0m\u001b[1;33m,\u001b[0m\u001b[1;33m\u001b[0m\u001b[1;33m\u001b[0m\u001b[0m\n",
            "\u001b[1;32mc:\\Users\\vkpan\\AppData\\Local\\Programs\\Python\\Python312\\Lib\\site-packages\\pandas\\core\\reshape\\merge.py\u001b[0m in \u001b[0;36m?\u001b[1;34m(self, left, right, how, on, left_on, right_on, left_index, right_index, sort, suffixes, indicator, validate)\u001b[0m\n\u001b[0;32m    787\u001b[0m             \u001b[0mself\u001b[0m\u001b[1;33m.\u001b[0m\u001b[0mright_join_keys\u001b[0m\u001b[1;33m,\u001b[0m\u001b[1;33m\u001b[0m\u001b[1;33m\u001b[0m\u001b[0m\n\u001b[0;32m    788\u001b[0m             \u001b[0mself\u001b[0m\u001b[1;33m.\u001b[0m\u001b[0mjoin_names\u001b[0m\u001b[1;33m,\u001b[0m\u001b[1;33m\u001b[0m\u001b[1;33m\u001b[0m\u001b[0m\n\u001b[0;32m    789\u001b[0m             \u001b[0mleft_drop\u001b[0m\u001b[1;33m,\u001b[0m\u001b[1;33m\u001b[0m\u001b[1;33m\u001b[0m\u001b[0m\n\u001b[0;32m    790\u001b[0m             \u001b[0mright_drop\u001b[0m\u001b[1;33m,\u001b[0m\u001b[1;33m\u001b[0m\u001b[1;33m\u001b[0m\u001b[0m\n\u001b[1;32m--> 791\u001b[1;33m         \u001b[1;33m)\u001b[0m \u001b[1;33m=\u001b[0m \u001b[0mself\u001b[0m\u001b[1;33m.\u001b[0m\u001b[0m_get_merge_keys\u001b[0m\u001b[1;33m(\u001b[0m\u001b[1;33m)\u001b[0m\u001b[1;33m\u001b[0m\u001b[1;33m\u001b[0m\u001b[0m\n\u001b[0m\u001b[0;32m    792\u001b[0m \u001b[1;33m\u001b[0m\u001b[0m\n\u001b[0;32m    793\u001b[0m         \u001b[1;32mif\u001b[0m \u001b[0mleft_drop\u001b[0m\u001b[1;33m:\u001b[0m\u001b[1;33m\u001b[0m\u001b[1;33m\u001b[0m\u001b[0m\n\u001b[0;32m    794\u001b[0m             \u001b[0mself\u001b[0m\u001b[1;33m.\u001b[0m\u001b[0mleft\u001b[0m \u001b[1;33m=\u001b[0m \u001b[0mself\u001b[0m\u001b[1;33m.\u001b[0m\u001b[0mleft\u001b[0m\u001b[1;33m.\u001b[0m\u001b[0m_drop_labels_or_levels\u001b[0m\u001b[1;33m(\u001b[0m\u001b[0mleft_drop\u001b[0m\u001b[1;33m)\u001b[0m\u001b[1;33m\u001b[0m\u001b[1;33m\u001b[0m\u001b[0m\n",
            "\u001b[1;32mc:\\Users\\vkpan\\AppData\\Local\\Programs\\Python\\Python312\\Lib\\site-packages\\pandas\\core\\reshape\\merge.py\u001b[0m in \u001b[0;36m?\u001b[1;34m(self)\u001b[0m\n\u001b[0;32m   1283\u001b[0m                     \u001b[1;32mif\u001b[0m \u001b[0mlk\u001b[0m \u001b[1;32mis\u001b[0m \u001b[1;32mnot\u001b[0m \u001b[1;32mNone\u001b[0m\u001b[1;33m:\u001b[0m\u001b[1;33m\u001b[0m\u001b[1;33m\u001b[0m\u001b[0m\n\u001b[0;32m   1284\u001b[0m                         \u001b[1;31m# Then we're either Hashable or a wrong-length arraylike,\u001b[0m\u001b[1;33m\u001b[0m\u001b[1;33m\u001b[0m\u001b[0m\n\u001b[0;32m   1285\u001b[0m                         \u001b[1;31m#  the latter of which will raise\u001b[0m\u001b[1;33m\u001b[0m\u001b[1;33m\u001b[0m\u001b[0m\n\u001b[0;32m   1286\u001b[0m                         \u001b[0mlk\u001b[0m \u001b[1;33m=\u001b[0m \u001b[0mcast\u001b[0m\u001b[1;33m(\u001b[0m\u001b[0mHashable\u001b[0m\u001b[1;33m,\u001b[0m \u001b[0mlk\u001b[0m\u001b[1;33m)\u001b[0m\u001b[1;33m\u001b[0m\u001b[1;33m\u001b[0m\u001b[0m\n\u001b[1;32m-> 1287\u001b[1;33m                         \u001b[0mleft_keys\u001b[0m\u001b[1;33m.\u001b[0m\u001b[0mappend\u001b[0m\u001b[1;33m(\u001b[0m\u001b[0mleft\u001b[0m\u001b[1;33m.\u001b[0m\u001b[0m_get_label_or_level_values\u001b[0m\u001b[1;33m(\u001b[0m\u001b[0mlk\u001b[0m\u001b[1;33m)\u001b[0m\u001b[1;33m)\u001b[0m\u001b[1;33m\u001b[0m\u001b[1;33m\u001b[0m\u001b[0m\n\u001b[0m\u001b[0;32m   1288\u001b[0m                         \u001b[0mjoin_names\u001b[0m\u001b[1;33m.\u001b[0m\u001b[0mappend\u001b[0m\u001b[1;33m(\u001b[0m\u001b[0mlk\u001b[0m\u001b[1;33m)\u001b[0m\u001b[1;33m\u001b[0m\u001b[1;33m\u001b[0m\u001b[0m\n\u001b[0;32m   1289\u001b[0m                     \u001b[1;32melse\u001b[0m\u001b[1;33m:\u001b[0m\u001b[1;33m\u001b[0m\u001b[1;33m\u001b[0m\u001b[0m\n\u001b[0;32m   1290\u001b[0m                         \u001b[1;31m# work-around for merge_asof(left_index=True)\u001b[0m\u001b[1;33m\u001b[0m\u001b[1;33m\u001b[0m\u001b[0m\n",
            "\u001b[1;32mc:\\Users\\vkpan\\AppData\\Local\\Programs\\Python\\Python312\\Lib\\site-packages\\pandas\\core\\generic.py\u001b[0m in \u001b[0;36m?\u001b[1;34m(self, key, axis)\u001b[0m\n\u001b[0;32m   1840\u001b[0m             \u001b[0mvalues\u001b[0m \u001b[1;33m=\u001b[0m \u001b[0mself\u001b[0m\u001b[1;33m.\u001b[0m\u001b[0mxs\u001b[0m\u001b[1;33m(\u001b[0m\u001b[0mkey\u001b[0m\u001b[1;33m,\u001b[0m \u001b[0maxis\u001b[0m\u001b[1;33m=\u001b[0m\u001b[0mother_axes\u001b[0m\u001b[1;33m[\u001b[0m\u001b[1;36m0\u001b[0m\u001b[1;33m]\u001b[0m\u001b[1;33m)\u001b[0m\u001b[1;33m.\u001b[0m\u001b[0m_values\u001b[0m\u001b[1;33m\u001b[0m\u001b[1;33m\u001b[0m\u001b[0m\n\u001b[0;32m   1841\u001b[0m         \u001b[1;32melif\u001b[0m \u001b[0mself\u001b[0m\u001b[1;33m.\u001b[0m\u001b[0m_is_level_reference\u001b[0m\u001b[1;33m(\u001b[0m\u001b[0mkey\u001b[0m\u001b[1;33m,\u001b[0m \u001b[0maxis\u001b[0m\u001b[1;33m=\u001b[0m\u001b[0maxis\u001b[0m\u001b[1;33m)\u001b[0m\u001b[1;33m:\u001b[0m\u001b[1;33m\u001b[0m\u001b[1;33m\u001b[0m\u001b[0m\n\u001b[0;32m   1842\u001b[0m             \u001b[0mvalues\u001b[0m \u001b[1;33m=\u001b[0m \u001b[0mself\u001b[0m\u001b[1;33m.\u001b[0m\u001b[0maxes\u001b[0m\u001b[1;33m[\u001b[0m\u001b[0maxis\u001b[0m\u001b[1;33m]\u001b[0m\u001b[1;33m.\u001b[0m\u001b[0mget_level_values\u001b[0m\u001b[1;33m(\u001b[0m\u001b[0mkey\u001b[0m\u001b[1;33m)\u001b[0m\u001b[1;33m.\u001b[0m\u001b[0m_values\u001b[0m\u001b[1;33m\u001b[0m\u001b[1;33m\u001b[0m\u001b[0m\n\u001b[0;32m   1843\u001b[0m         \u001b[1;32melse\u001b[0m\u001b[1;33m:\u001b[0m\u001b[1;33m\u001b[0m\u001b[1;33m\u001b[0m\u001b[0m\n\u001b[1;32m-> 1844\u001b[1;33m             \u001b[1;32mraise\u001b[0m \u001b[0mKeyError\u001b[0m\u001b[1;33m(\u001b[0m\u001b[0mkey\u001b[0m\u001b[1;33m)\u001b[0m\u001b[1;33m\u001b[0m\u001b[1;33m\u001b[0m\u001b[0m\n\u001b[0m\u001b[0;32m   1845\u001b[0m \u001b[1;33m\u001b[0m\u001b[0m\n\u001b[0;32m   1846\u001b[0m         \u001b[1;31m# Check for duplicates\u001b[0m\u001b[1;33m\u001b[0m\u001b[1;33m\u001b[0m\u001b[0m\n\u001b[0;32m   1847\u001b[0m         \u001b[1;32mif\u001b[0m \u001b[0mvalues\u001b[0m\u001b[1;33m.\u001b[0m\u001b[0mndim\u001b[0m \u001b[1;33m>\u001b[0m \u001b[1;36m1\u001b[0m\u001b[1;33m:\u001b[0m\u001b[1;33m\u001b[0m\u001b[1;33m\u001b[0m\u001b[0m\n",
            "\u001b[1;31mKeyError\u001b[0m: 'Job_Title'"
          ]
        }
      ],
      "source": [
        "import pandas as pd\n",
        "\n",
        "# Load the datasets\n",
        "df1 = pd.read_csv('./datasets/kaggle-survey-2019/multiple_choice_responses.csv')  # multiple_choice_responses dataset\n",
        "df2 = pd.read_csv('./datasets/US_graduates/US_graduates.csv')               # US_graduates dataset\n",
        "df3 = pd.read_csv('./datasets/AI_Job_Market/ai_job_market_insights.csv')                   # postings dataset\n",
        "df4 = pd.read_csv('./datasets/Job_Postings/postings_half.csv')                # ai insights dataset\n",
        "\n",
        "# Rename columns for consistency\n",
        "df1.rename(columns={\n",
        "    \"In which country do you currently reside?\": \"Location\",\n",
        "    \"Select the title most similar to your current role (or most recent title if retired)\": \"Job_Title\",\n",
        "    # Add more as needed for consistency\n",
        "}, inplace=True)\n",
        "\n",
        "df3.rename(columns={\n",
        "    \"title\": \"Job_Title\",\n",
        "    \"location\": \"Location\",\n",
        "    \"skills_desc\": \"Required_Skills\",\n",
        "    \"max_salary\": \"Salary_Max\",\n",
        "    \"med_salary\": \"Salary_Median\",\n",
        "    \"min_salary\": \"Salary_Min\"\n",
        "}, inplace=True)\n",
        "\n",
        "df4.rename(columns={\n",
        "    \"Salary_USD\": \"Salary_Median\",\n",
        "    \"Required_Skills\": \"Skills\",\n",
        "    \"Job_Title\": \"Job_Title\"\n",
        "}, inplace=True)\n",
        "\n",
        "# Merge the datasets on common columns such as 'Location', 'Job_Title', and 'Salary_Median'\n",
        "merged_df = df1.merge(df3, on=['Job_Title', 'Location'], how='outer')\\\n",
        "               .merge(df4, on=['Job_Title', 'Location'], how='outer')\\\n",
        "               .merge(df2, left_on='Job_Title', right_on='Education.Major', how='outer')\n",
        "\n",
        "# Display the first few rows of the merged dataset\n",
        "print(merged_df.head())\n",
        "\n",
        "# Save the merged dataset to a CSV file\n",
        "merged_df.to_csv('merged_dataset.csv', index=False)\n"
      ]
    },
    {
      "cell_type": "code",
      "execution_count": 26,
      "metadata": {},
      "outputs": [
        {
          "name": "stderr",
          "output_type": "stream",
          "text": [
            "C:\\Users\\vkpan\\AppData\\Local\\Temp\\ipykernel_16328\\1962557305.py:4: DtypeWarning: Columns (0,3,7,19,32,34,45,47,49,50,51,52,53,54,66,68,79,81,92,94,96,107,109,115,128,130,137,139,145,147,152,154,165,167,178,180,191,193,204,206,217,219,230,232,243,245) have mixed types. Specify dtype option on import or set low_memory=False.\n",
            "  df1 = pd.read_csv('./datasets/kaggle-survey-2019/multiple_choice_responses.csv')  # multiple_choice_responses dataset\n"
          ]
        },
        {
          "name": "stdout",
          "output_type": "stream",
          "text": [
            "df1 (multiple_choice_responses) columns: Index(['Time from Start to Finish (seconds)', 'Q1', 'Q2', 'Q2_OTHER_TEXT',\n",
            "       'Q3', 'Q4', 'Q5', 'Q5_OTHER_TEXT', 'Q6', 'Q7',\n",
            "       ...\n",
            "       'Q34_Part_4', 'Q34_Part_5', 'Q34_Part_6', 'Q34_Part_7', 'Q34_Part_8',\n",
            "       'Q34_Part_9', 'Q34_Part_10', 'Q34_Part_11', 'Q34_Part_12',\n",
            "       'Q34_OTHER_TEXT'],\n",
            "      dtype='object', length=246)\n",
            "df2 (US_graduates) columns: Index(['Year', 'Demographics.Total', 'Education.Major', 'Salaries.Highest',\n",
            "       'Salaries.Lowest', 'Salaries.Mean', 'Salaries.Median',\n",
            "       'Salaries.Quantity', 'Salaries.Standard Deviation',\n",
            "       'Demographics.Ethnicity.Asians', 'Demographics.Ethnicity.Minorities',\n",
            "       'Demographics.Ethnicity.Whites', 'Demographics.Gender.Females',\n",
            "       'Demographics.Gender.Males', 'Education.Degrees.Bachelors',\n",
            "       'Education.Degrees.Doctorates', 'Education.Degrees.Masters',\n",
            "       'Education.Degrees.Professionals',\n",
            "       'Employment.Employer Type.Business/Industry',\n",
            "       'Employment.Employer Type.Educational Institution',\n",
            "       'Employment.Employer Type.Government',\n",
            "       'Employment.Reason Working Outside Field.Career Change',\n",
            "       'Employment.Reason Working Outside Field.Family-related',\n",
            "       'Employment.Reason Working Outside Field.Job Location',\n",
            "       'Employment.Reason Working Outside Field.No Job Available',\n",
            "       'Employment.Reason Working Outside Field.Other',\n",
            "       'Employment.Reason Working Outside Field.Pay/Promotion',\n",
            "       'Employment.Reason Working Outside Field.Working Conditions',\n",
            "       'Employment.Reason for Not Working.Family',\n",
            "       'Employment.Reason for Not Working.Layoff',\n",
            "       'Employment.Reason for Not Working.No Job Available',\n",
            "       'Employment.Reason for Not Working.No need/want',\n",
            "       'Employment.Reason for Not Working.Student',\n",
            "       'Employment.Status.Employed', 'Employment.Status.Not in Labor Force',\n",
            "       'Employment.Status.Unemployed',\n",
            "       'Employment.Work Activity.Accounting/Finance/Contracts',\n",
            "       'Employment.Work Activity.Applied Research',\n",
            "       'Employment.Work Activity.Basic Research',\n",
            "       'Employment.Work Activity.Computer Applications',\n",
            "       'Employment.Work Activity.Design',\n",
            "       'Employment.Work Activity.Development',\n",
            "       'Employment.Work Activity.Human Resources',\n",
            "       'Employment.Work Activity.Managing/Supervising People/Projects',\n",
            "       'Employment.Work Activity.Other',\n",
            "       'Employment.Work Activity.Productions/Operations/Maintenance',\n",
            "       'Employment.Work Activity.Professional Service',\n",
            "       'Employment.Work Activity.Qualitity/Productivity Management',\n",
            "       'Employment.Work Activity.Sales, Purchasing, Marketing',\n",
            "       'Employment.Work Activity.Teaching'],\n",
            "      dtype='object')\n",
            "df3 (postings) columns: Index(['Job_Title', 'Industry', 'Company_Size', 'Location',\n",
            "       'AI_Adoption_Level', 'Automation_Risk', 'Required_Skills', 'Salary_USD',\n",
            "       'Remote_Friendly', 'Job_Growth_Projection'],\n",
            "      dtype='object')\n",
            "df4 (ai_insights) columns: Index(['Unnamed: 0', 'job_id', 'company_name', 'title', 'description',\n",
            "       'max_salary', 'pay_period', 'location', 'company_id', 'views',\n",
            "       'med_salary', 'min_salary', 'formatted_work_type', 'applies',\n",
            "       'original_listed_time', 'remote_allowed', 'job_posting_url',\n",
            "       'application_url', 'application_type', 'expiry', 'closed_time',\n",
            "       'formatted_experience_level', 'skills_desc', 'listed_time',\n",
            "       'posting_domain', 'sponsored', 'work_type', 'currency',\n",
            "       'compensation_type', 'normalized_salary', 'zip_code', 'fips'],\n",
            "      dtype='object')\n",
            "Error: 'Job_Title' or 'Location' column is missing in one of the datasets.\n"
          ]
        }
      ],
      "source": [
        "import pandas as pd\n",
        "\n",
        "# Load the datasets\n",
        "df1 = pd.read_csv('./datasets/kaggle-survey-2019/multiple_choice_responses.csv')  # multiple_choice_responses dataset\n",
        "df2 = pd.read_csv('./datasets/US_graduates/US_graduates.csv')               # US_graduates dataset\n",
        "df3 = pd.read_csv('./datasets/AI_Job_Market/ai_job_market_insights.csv')                   # postings dataset\n",
        "df4 = pd.read_csv('./datasets/Job_Postings/postings_half.csv')              # ai insights dataset\n",
        "\n",
        "# Print column names to debug\n",
        "print(\"df1 (multiple_choice_responses) columns:\", df1.columns)\n",
        "print(\"df2 (US_graduates) columns:\", df2.columns)\n",
        "print(\"df3 (postings) columns:\", df3.columns)\n",
        "print(\"df4 (ai_insights) columns:\", df4.columns)\n",
        "\n",
        "# Ensure the columns for merging exist in each dataset\n",
        "# Rename columns for consistency if needed\n",
        "df1.rename(columns={\n",
        "    \"In which country do you currently reside?\": \"Location\",\n",
        "    \"Select the title most similar to your current role (or most recent title if retired)\": \"Job_Title\",\n",
        "}, inplace=True)\n",
        "\n",
        "df3.rename(columns={\n",
        "    \"title\": \"Job_Title\",\n",
        "    \"location\": \"Location\",\n",
        "    \"skills_desc\": \"Required_Skills\",\n",
        "    \"max_salary\": \"Salary_Max\",\n",
        "    \"med_salary\": \"Salary_Median\",\n",
        "    \"min_salary\": \"Salary_Min\"\n",
        "}, inplace=True)\n",
        "\n",
        "df4.rename(columns={\n",
        "    \"Salary_USD\": \"Salary_Median\",\n",
        "    \"Required_Skills\": \"Skills\",\n",
        "    \"Job_Title\": \"Job_Title\"\n",
        "}, inplace=True)\n",
        "\n",
        "# Verify if 'Job_Title' and 'Location' exist in each dataset before merging\n",
        "if 'Job_Title' in df1.columns and 'Location' in df1.columns and \\\n",
        "   'Job_Title' in df3.columns and 'Location' in df3.columns and \\\n",
        "   'Job_Title' in df4.columns and 'Location' in df4.columns:\n",
        "    \n",
        "    # Merge the datasets on common columns like 'Job_Title' and 'Location'\n",
        "    merged_df = df1.merge(df3, on=['Job_Title', 'Location'], how='outer')\\\n",
        "                   .merge(df4, on=['Job_Title', 'Location'], how='outer')\\\n",
        "                   .merge(df2, left_on='Job_Title', right_on='Education.Major', how='outer')\n",
        "\n",
        "    # Display the first few rows of the merged dataset\n",
        "    print(merged_df.head())\n",
        "\n",
        "    # Save the merged dataset to a CSV file\n",
        "    merged_df.to_csv('merged_dataset.csv', index=False)\n",
        "else:\n",
        "    print(\"Error: 'Job_Title' or 'Location' column is missing in one of the datasets.\")\n"
      ]
    },
    {
      "cell_type": "markdown",
      "metadata": {},
      "source": []
    }
  ],
  "metadata": {
    "colab": {
      "provenance": []
    },
    "kernelspec": {
      "display_name": "Python 3",
      "language": "python",
      "name": "python3"
    },
    "language_info": {
      "codemirror_mode": {
        "name": "ipython",
        "version": 3
      },
      "file_extension": ".py",
      "mimetype": "text/x-python",
      "name": "python",
      "nbconvert_exporter": "python",
      "pygments_lexer": "ipython3",
      "version": "3.12.1"
    }
  },
  "nbformat": 4,
  "nbformat_minor": 0
}
