{
  "cells": [
    {
      "cell_type": "markdown",
      "metadata": {},
      "source": [
        "## Importing libraries"
      ]
    },
    {
      "cell_type": "code",
      "execution_count": 7,
      "metadata": {
        "id": "wGBhsSQzwDMY"
      },
      "outputs": [],
      "source": [
        "import os\n",
        "import pandas as pd\n",
        "import seaborn as sb\n",
        "import numpy as np"
      ]
    },
    {
      "cell_type": "markdown",
      "metadata": {},
      "source": [
        "## Importing datasets"
      ]
    },
    {
      "cell_type": "code",
      "execution_count": 8,
      "metadata": {},
      "outputs": [],
      "source": [
        "BASE_PATH = './datasets/'\n",
        "DATASET1_PATH = os.path.join(BASE_PATH,'AI_Job_Market')\n",
        "DATASET2_PATH = os.path.join(BASE_PATH,'Job_Postings')\n",
        "DATASET3_PATH = os.path.join(BASE_PATH,'kaggle-survey-2019')\n",
        "DATASET4_PATH = os.path.join(BASE_PATH,'US_graduates')"
      ]
    },
    {
      "cell_type": "markdown",
      "metadata": {},
      "source": [
        "## Data Cleaning on Dataset 2"
      ]
    },
    {
      "cell_type": "code",
      "execution_count": 9,
      "metadata": {
        "id": "wHorE-x1wuBh"
      },
      "outputs": [],
      "source": [
        "POSTINGS_PATH = os.path.join(DATASET2_PATH,'postings.csv')\n",
        "df = pd.read_csv(POSTINGS_PATH)"
      ]
    },
    {
      "cell_type": "code",
      "execution_count": 12,
      "metadata": {},
      "outputs": [
        {
          "data": {
            "text/html": [
              "<div>\n",
              "<style scoped>\n",
              "    .dataframe tbody tr th:only-of-type {\n",
              "        vertical-align: middle;\n",
              "    }\n",
              "\n",
              "    .dataframe tbody tr th {\n",
              "        vertical-align: top;\n",
              "    }\n",
              "\n",
              "    .dataframe thead th {\n",
              "        text-align: right;\n",
              "    }\n",
              "</style>\n",
              "<table border=\"1\" class=\"dataframe\">\n",
              "  <thead>\n",
              "    <tr style=\"text-align: right;\">\n",
              "      <th></th>\n",
              "      <th>job_id</th>\n",
              "      <th>company_name</th>\n",
              "      <th>title</th>\n",
              "      <th>description</th>\n",
              "      <th>max_salary</th>\n",
              "      <th>pay_period</th>\n",
              "      <th>location</th>\n",
              "      <th>company_id</th>\n",
              "      <th>views</th>\n",
              "      <th>med_salary</th>\n",
              "      <th>...</th>\n",
              "      <th>skills_desc</th>\n",
              "      <th>listed_time</th>\n",
              "      <th>posting_domain</th>\n",
              "      <th>sponsored</th>\n",
              "      <th>work_type</th>\n",
              "      <th>currency</th>\n",
              "      <th>compensation_type</th>\n",
              "      <th>normalized_salary</th>\n",
              "      <th>zip_code</th>\n",
              "      <th>fips</th>\n",
              "    </tr>\n",
              "  </thead>\n",
              "  <tbody>\n",
              "    <tr>\n",
              "      <th>0</th>\n",
              "      <td>921716</td>\n",
              "      <td>Corcoran Sawyer Smith</td>\n",
              "      <td>Marketing Coordinator</td>\n",
              "      <td>Job descriptionA leading real estate firm in N...</td>\n",
              "      <td>20.0</td>\n",
              "      <td>HOURLY</td>\n",
              "      <td>Princeton, NJ</td>\n",
              "      <td>2774458.0</td>\n",
              "      <td>20.0</td>\n",
              "      <td>NaN</td>\n",
              "      <td>...</td>\n",
              "      <td>Requirements: \\n\\nWe are seeking a College or ...</td>\n",
              "      <td>1.713398e+12</td>\n",
              "      <td>NaN</td>\n",
              "      <td>0</td>\n",
              "      <td>FULL_TIME</td>\n",
              "      <td>USD</td>\n",
              "      <td>BASE_SALARY</td>\n",
              "      <td>38480.0</td>\n",
              "      <td>8540.0</td>\n",
              "      <td>34021.0</td>\n",
              "    </tr>\n",
              "    <tr>\n",
              "      <th>1</th>\n",
              "      <td>1829192</td>\n",
              "      <td>NaN</td>\n",
              "      <td>Mental Health Therapist/Counselor</td>\n",
              "      <td>At Aspen Therapy and Wellness , we are committ...</td>\n",
              "      <td>50.0</td>\n",
              "      <td>HOURLY</td>\n",
              "      <td>Fort Collins, CO</td>\n",
              "      <td>NaN</td>\n",
              "      <td>1.0</td>\n",
              "      <td>NaN</td>\n",
              "      <td>...</td>\n",
              "      <td>NaN</td>\n",
              "      <td>1.712858e+12</td>\n",
              "      <td>NaN</td>\n",
              "      <td>0</td>\n",
              "      <td>FULL_TIME</td>\n",
              "      <td>USD</td>\n",
              "      <td>BASE_SALARY</td>\n",
              "      <td>83200.0</td>\n",
              "      <td>80521.0</td>\n",
              "      <td>8069.0</td>\n",
              "    </tr>\n",
              "    <tr>\n",
              "      <th>2</th>\n",
              "      <td>10998357</td>\n",
              "      <td>The National Exemplar</td>\n",
              "      <td>Assitant Restaurant Manager</td>\n",
              "      <td>The National Exemplar is accepting application...</td>\n",
              "      <td>65000.0</td>\n",
              "      <td>YEARLY</td>\n",
              "      <td>Cincinnati, OH</td>\n",
              "      <td>64896719.0</td>\n",
              "      <td>8.0</td>\n",
              "      <td>NaN</td>\n",
              "      <td>...</td>\n",
              "      <td>We are currently accepting resumes for FOH - A...</td>\n",
              "      <td>1.713278e+12</td>\n",
              "      <td>NaN</td>\n",
              "      <td>0</td>\n",
              "      <td>FULL_TIME</td>\n",
              "      <td>USD</td>\n",
              "      <td>BASE_SALARY</td>\n",
              "      <td>55000.0</td>\n",
              "      <td>45202.0</td>\n",
              "      <td>39061.0</td>\n",
              "    </tr>\n",
              "    <tr>\n",
              "      <th>3</th>\n",
              "      <td>23221523</td>\n",
              "      <td>Abrams Fensterman, LLP</td>\n",
              "      <td>Senior Elder Law / Trusts and Estates Associat...</td>\n",
              "      <td>Senior Associate Attorney - Elder Law / Trusts...</td>\n",
              "      <td>175000.0</td>\n",
              "      <td>YEARLY</td>\n",
              "      <td>New Hyde Park, NY</td>\n",
              "      <td>766262.0</td>\n",
              "      <td>16.0</td>\n",
              "      <td>NaN</td>\n",
              "      <td>...</td>\n",
              "      <td>This position requires a baseline understandin...</td>\n",
              "      <td>1.712896e+12</td>\n",
              "      <td>NaN</td>\n",
              "      <td>0</td>\n",
              "      <td>FULL_TIME</td>\n",
              "      <td>USD</td>\n",
              "      <td>BASE_SALARY</td>\n",
              "      <td>157500.0</td>\n",
              "      <td>11040.0</td>\n",
              "      <td>36059.0</td>\n",
              "    </tr>\n",
              "    <tr>\n",
              "      <th>4</th>\n",
              "      <td>35982263</td>\n",
              "      <td>NaN</td>\n",
              "      <td>Service Technician</td>\n",
              "      <td>Looking for HVAC service tech with experience ...</td>\n",
              "      <td>80000.0</td>\n",
              "      <td>YEARLY</td>\n",
              "      <td>Burlington, IA</td>\n",
              "      <td>NaN</td>\n",
              "      <td>3.0</td>\n",
              "      <td>NaN</td>\n",
              "      <td>...</td>\n",
              "      <td>NaN</td>\n",
              "      <td>1.713452e+12</td>\n",
              "      <td>NaN</td>\n",
              "      <td>0</td>\n",
              "      <td>FULL_TIME</td>\n",
              "      <td>USD</td>\n",
              "      <td>BASE_SALARY</td>\n",
              "      <td>70000.0</td>\n",
              "      <td>52601.0</td>\n",
              "      <td>19057.0</td>\n",
              "    </tr>\n",
              "  </tbody>\n",
              "</table>\n",
              "<p>5 rows × 31 columns</p>\n",
              "</div>"
            ],
            "text/plain": [
              "     job_id            company_name  \\\n",
              "0    921716   Corcoran Sawyer Smith   \n",
              "1   1829192                     NaN   \n",
              "2  10998357  The National Exemplar    \n",
              "3  23221523  Abrams Fensterman, LLP   \n",
              "4  35982263                     NaN   \n",
              "\n",
              "                                               title  \\\n",
              "0                              Marketing Coordinator   \n",
              "1                  Mental Health Therapist/Counselor   \n",
              "2                        Assitant Restaurant Manager   \n",
              "3  Senior Elder Law / Trusts and Estates Associat...   \n",
              "4                                 Service Technician   \n",
              "\n",
              "                                         description  max_salary pay_period  \\\n",
              "0  Job descriptionA leading real estate firm in N...        20.0     HOURLY   \n",
              "1  At Aspen Therapy and Wellness , we are committ...        50.0     HOURLY   \n",
              "2  The National Exemplar is accepting application...     65000.0     YEARLY   \n",
              "3  Senior Associate Attorney - Elder Law / Trusts...    175000.0     YEARLY   \n",
              "4  Looking for HVAC service tech with experience ...     80000.0     YEARLY   \n",
              "\n",
              "            location  company_id  views  med_salary  ...  \\\n",
              "0      Princeton, NJ   2774458.0   20.0         NaN  ...   \n",
              "1   Fort Collins, CO         NaN    1.0         NaN  ...   \n",
              "2     Cincinnati, OH  64896719.0    8.0         NaN  ...   \n",
              "3  New Hyde Park, NY    766262.0   16.0         NaN  ...   \n",
              "4     Burlington, IA         NaN    3.0         NaN  ...   \n",
              "\n",
              "                                         skills_desc   listed_time  \\\n",
              "0  Requirements: \\n\\nWe are seeking a College or ...  1.713398e+12   \n",
              "1                                                NaN  1.712858e+12   \n",
              "2  We are currently accepting resumes for FOH - A...  1.713278e+12   \n",
              "3  This position requires a baseline understandin...  1.712896e+12   \n",
              "4                                                NaN  1.713452e+12   \n",
              "\n",
              "   posting_domain  sponsored  work_type currency compensation_type  \\\n",
              "0             NaN          0  FULL_TIME      USD       BASE_SALARY   \n",
              "1             NaN          0  FULL_TIME      USD       BASE_SALARY   \n",
              "2             NaN          0  FULL_TIME      USD       BASE_SALARY   \n",
              "3             NaN          0  FULL_TIME      USD       BASE_SALARY   \n",
              "4             NaN          0  FULL_TIME      USD       BASE_SALARY   \n",
              "\n",
              "  normalized_salary  zip_code     fips  \n",
              "0           38480.0    8540.0  34021.0  \n",
              "1           83200.0   80521.0   8069.0  \n",
              "2           55000.0   45202.0  39061.0  \n",
              "3          157500.0   11040.0  36059.0  \n",
              "4           70000.0   52601.0  19057.0  \n",
              "\n",
              "[5 rows x 31 columns]"
            ]
          },
          "execution_count": 12,
          "metadata": {},
          "output_type": "execute_result"
        }
      ],
      "source": [
        "df.head()"
      ]
    },
    {
      "cell_type": "code",
      "execution_count": 10,
      "metadata": {},
      "outputs": [
        {
          "data": {
            "text/plain": [
              "61924"
            ]
          },
          "execution_count": 10,
          "metadata": {},
          "output_type": "execute_result"
        }
      ],
      "source": [
        "df_half = df.iloc[:len(df) // 2,:]\n",
        "len(df_half)"
      ]
    },
    {
      "cell_type": "code",
      "execution_count": 11,
      "metadata": {},
      "outputs": [],
      "source": [
        "NEW_POSTINGS_PATH = os.path.join(DATASET2_PATH, 'postings_half.csv')\n",
        "df_half.to_csv(NEW_POSTINGS_PATH)"
      ]
    },
    {
      "cell_type": "code",
      "execution_count": null,
      "metadata": {},
      "outputs": [],
      "source": []
    }
  ],
  "metadata": {
    "colab": {
      "provenance": []
    },
    "kernelspec": {
      "display_name": "dic",
      "language": "python",
      "name": "python3"
    },
    "language_info": {
      "codemirror_mode": {
        "name": "ipython",
        "version": 3
      },
      "file_extension": ".py",
      "mimetype": "text/x-python",
      "name": "python",
      "nbconvert_exporter": "python",
      "pygments_lexer": "ipython3",
      "version": "3.12.4"
    }
  },
  "nbformat": 4,
  "nbformat_minor": 0
}
